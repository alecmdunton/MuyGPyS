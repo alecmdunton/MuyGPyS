{
 "cells": [
  {
   "cell_type": "markdown",
   "id": "0da6ff21",
   "metadata": {},
   "source": [
    "Copyright 2021-2023 Lawrence Livermore National Security, LLC and other MuyGPyS\n",
    "Project Developers. See the top-level COPYRIGHT file for details.\n",
    "\n",
    "SPDX-License-Identifier: MIT"
   ]
  },
  {
   "cell_type": "markdown",
   "id": "6c4b5c9e",
   "metadata": {},
   "source": [
    "# Anisotropic Kernel Tutorial\n",
    "\n",
    "This notebook walks through an anisotropic modeling workflow and explains the relevant components of `MuyGPyS`."
   ]
  },
  {
   "cell_type": "markdown",
   "id": "6b56ec9a",
   "metadata": {},
   "source": [
    "The cell below uses the same code as that found in univariate_regression_tutorial.ipynb. This includes generating the synthetic data from a GP and training two MuyGPs models to fit the data using Bayesian optimization. "
   ]
  },
  {
   "cell_type": "code",
   "execution_count": null,
   "id": "8327433c",
   "metadata": {},
   "outputs": [],
   "source": [
    "import matplotlib.pyplot as plt\n",
    "import numpy as np\n",
    "\n",
    "from utils import UnivariateSampler\n",
    "\n",
    "from MuyGPyS._test.gp import benchmark_sample, BenchmarkGP\n",
    "from MuyGPyS.gp.distortion import AnisotropicDistortion, NullDistortion, l2\n",
    "from MuyGPyS.gp.hyperparameter import ScalarHyperparameter\n",
    "from MuyGPyS.gp.kernels import Matern\n",
    "from MuyGPyS.gp.noise import HomoscedasticNoise\n",
    "\n"
   ]
  }
 ],
 "metadata": {
  "kernelspec": {
   "display_name": "Python 3 (ipykernel)",
   "language": "python",
   "name": "python3"
  },
  "language_info": {
   "codemirror_mode": {
    "name": "ipython",
    "version": 3
   },
   "file_extension": ".py",
   "mimetype": "text/x-python",
   "name": "python",
   "nbconvert_exporter": "python",
   "pygments_lexer": "ipython3",
   "version": "3.10.6"
  }
 },
 "nbformat": 4,
 "nbformat_minor": 5
}
